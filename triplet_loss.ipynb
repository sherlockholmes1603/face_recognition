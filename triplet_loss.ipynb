{
 "cells": [
  {
   "cell_type": "markdown",
   "metadata": {
    "id": "Ncg871Qi1nDG"
   },
   "source": [
    "#Import all the libraries"
   ]
  },
  {
   "cell_type": "code",
   "execution_count": null,
   "metadata": {
    "colab": {
     "base_uri": "https://localhost:8080/"
    },
    "id": "MexIRy54SFpJ",
    "outputId": "0cb516eb-cc4b-43b1-9c64-f4aad300c0df"
   },
   "outputs": [
    {
     "name": "stdout",
     "output_type": "stream",
     "text": [
      "Collecting mtcnn\n",
      "  Downloading mtcnn-0.1.1-py3-none-any.whl (2.3 MB)\n",
      "\u001b[K     |████████████████████████████████| 2.3 MB 8.3 MB/s \n",
      "\u001b[?25hRequirement already satisfied: opencv-python>=4.1.0 in /usr/local/lib/python3.7/dist-packages (from mtcnn) (4.1.2.30)\n",
      "Requirement already satisfied: keras>=2.0.0 in /usr/local/lib/python3.7/dist-packages (from mtcnn) (2.4.3)\n",
      "Requirement already satisfied: pyyaml in /usr/local/lib/python3.7/dist-packages (from keras>=2.0.0->mtcnn) (3.13)\n",
      "Requirement already satisfied: scipy>=0.14 in /usr/local/lib/python3.7/dist-packages (from keras>=2.0.0->mtcnn) (1.4.1)\n",
      "Requirement already satisfied: h5py in /usr/local/lib/python3.7/dist-packages (from keras>=2.0.0->mtcnn) (3.1.0)\n",
      "Requirement already satisfied: numpy>=1.9.1 in /usr/local/lib/python3.7/dist-packages (from keras>=2.0.0->mtcnn) (1.19.5)\n",
      "Requirement already satisfied: cached-property in /usr/local/lib/python3.7/dist-packages (from h5py->keras>=2.0.0->mtcnn) (1.5.2)\n",
      "Installing collected packages: mtcnn\n",
      "Successfully installed mtcnn-0.1.1\n"
     ]
    }
   ],
   "source": [
    "!pip install mtcnn\n",
    "\n",
    "# demonstrate face detection on 5 Celebrity Faces Dataset\n",
    "import tensorflow as tf\n",
    "import os\n",
    "from os import listdir\n",
    "from os.path import isdir\n",
    "from PIL import Image\n",
    "from matplotlib import pyplot\n",
    "from numpy import savez_compressed\n",
    "from numpy import asarray\n",
    "from mtcnn.mtcnn import MTCNN\n",
    "from numpy import load\n",
    "from numpy import expand_dims\n",
    "from random import choice\n",
    "from numpy import load\n",
    "from numpy import expand_dims\n",
    "from sklearn.preprocessing import LabelEncoder\n",
    "from sklearn.preprocessing import Normalizer\n",
    "from sklearn.svm import SVC\n",
    "from matplotlib import pyplot\n",
    "from os import listdir\n",
    "from os.path import isdir\n",
    "import pandas as pd\n",
    "import numpy as np\n",
    "import matplotlib.pyplot as plt\n",
    "import random\n"
   ]
  },
  {
   "cell_type": "markdown",
   "metadata": {
    "id": "b-Lq-uD11vqQ"
   },
   "source": [
    "#This function is for detecting and extracting the face out of a given image"
   ]
  },
  {
   "cell_type": "code",
   "execution_count": null,
   "metadata": {
    "id": "K_h6TKaXU5oX"
   },
   "outputs": [],
   "source": [
    "def extract_face(filename, required_size=(160, 160)):\n",
    "\t# load image from file\n",
    "  image = Image.open(filename)\n",
    "\t# convert to RGB, if needed\n",
    "  image = image.convert('RGB')\n",
    "\t# convert to array\n",
    "  pixels = asarray(image)\n",
    "\t# create the detector, using default weights\n",
    "  detector = MTCNN()\n",
    "\t# detect faces in the image\n",
    "  results = detector.detect_faces(pixels)\n",
    "\t# extract the bounding box from the first face\n",
    "  x1, y1, width, height = results[0]['box']\n",
    "\t# bug fix\n",
    "  x1, y1 = abs(x1), abs(y1)\n",
    "  x2, y2 = x1 + width, y1 + height\n",
    "\t# extract the face\n",
    "  face = pixels[y1:y2, x1:x2]\n",
    "\t# resize pixels to the model size\n",
    "  image = Image.fromarray(face)\n",
    "  image = image.resize(required_size)\n",
    "  face_array = asarray(image)\n",
    "  # print(face_array)\n",
    "  return face_array\n"
   ]
  },
  {
   "cell_type": "markdown",
   "metadata": {
    "id": "oQkNXgts1-35"
   },
   "source": [
    "#This function is for loading the images from a given directory"
   ]
  },
  {
   "cell_type": "code",
   "execution_count": null,
   "metadata": {
    "id": "N6EgdBFGSP0P"
   },
   "outputs": [],
   "source": [
    "def load_faces(directory,data_storage,subdir):\n",
    "  faces = list()\n",
    "\t# enumerate files\n",
    "  for filename in listdir(directory):\n",
    "\t\t# path\n",
    "    path = directory + filename\n",
    "\t\t# get face\n",
    "    face = extract_face(path,required_size=(160,160))\n",
    "\t\t# store \n",
    "    data_storage.append((face,subdir))\n",
    "    "
   ]
  },
  {
   "cell_type": "markdown",
   "metadata": {
    "id": "q0Sja8gw2PqW"
   },
   "source": [
    "#This function is for loading the dataset"
   ]
  },
  {
   "cell_type": "code",
   "execution_count": null,
   "metadata": {
    "colab": {
     "base_uri": "https://localhost:8080/"
    },
    "id": "hJVKoszaSSmX",
    "outputId": "8ddf974b-9c00-4951-c683-71be64dc3e67"
   },
   "outputs": [
    {
     "name": "stdout",
     "output_type": "stream",
     "text": [
      ">loaded images for class: ben_afflek\n",
      ">loaded images for class: elton_john\n",
      ">loaded images for class: mindy_kaling\n",
      ">loaded images for class: madonna\n",
      ">loaded images for class: jerry_seinfeld\n",
      "Length: 93\n",
      ">loaded images for class: ben_afflek\n",
      ">loaded images for class: jerry_seinfeld\n",
      ">loaded images for class: mindy_kaling\n",
      ">loaded images for class: elton_john\n",
      ">loaded images for class: madonna\n",
      "Test size:  25\n"
     ]
    }
   ],
   "source": [
    "def load_dataset(directory,data_storage):\n",
    "\tX, y = list(), list()\n",
    "\t# enumerate folders, on per class\n",
    "\tfor subdir in listdir(directory):\n",
    "\t\t# path\n",
    "\t\tpath = directory + subdir + '/'\n",
    "\t\t# skip any files that might be in the dir\n",
    "\t\tif not isdir(path):\n",
    "\t\t\tcontinue\n",
    "\t\t# load all faces in the subdirectory\n",
    "\t\tload_faces(path,data_storage,subdir)\n",
    "\t\t# summarize progress\n",
    "\t\tprint('>loaded images for class: %s' % (subdir))\n",
    "\t\t\n",
    " \n",
    "# load train dataset\n",
    "data = []\n",
    "load_dataset('data_1/data/train/',data)\n",
    "df = pd.DataFrame(data, columns=[\"image\", \"name\"])\n",
    "print(\"Length:\",len(df))\n",
    "\n",
    "# load test dataset\n",
    "data = []\n",
    "load_dataset('data_1/data/val/',data)\n",
    "df_test = pd.DataFrame(data, columns=[\"image\", \"name\"])\n",
    "print(\"Test size: \", len(df_test))"
   ]
  },
  {
   "cell_type": "code",
   "execution_count": null,
   "metadata": {
    "colab": {
     "base_uri": "https://localhost:8080/"
    },
    "id": "btJNsVfjqTFO",
    "outputId": "317d7328-bb50-4dd4-c8ee-2fca2023cdf0"
   },
   "outputs": [
    {
     "data": {
      "text/plain": [
       "LabelEncoder()"
      ]
     },
     "execution_count": 7,
     "metadata": {
      "tags": []
     },
     "output_type": "execute_result"
    }
   ],
   "source": [
    "le = LabelEncoder()\n",
    "le.fit(df[\"name\"].values)"
   ]
  },
  {
   "cell_type": "markdown",
   "metadata": {
    "id": "RjjxfZvU2Ysu"
   },
   "source": [
    "#Load the train dataset"
   ]
  },
  {
   "cell_type": "code",
   "execution_count": null,
   "metadata": {
    "colab": {
     "base_uri": "https://localhost:8080/"
    },
    "id": "TsP0VFO0qjB4",
    "outputId": "86293f9e-fa48-44db-9812-44b021be444e"
   },
   "outputs": [
    {
     "name": "stdout",
     "output_type": "stream",
     "text": [
      "(93, 160, 160, 3)\n",
      "(93,)\n"
     ]
    }
   ],
   "source": [
    "x_train = list(df.image.values)\n",
    "x_train = np.array(x_train)\n",
    "x_train = x_train/255\n",
    "print(x_train.shape)\n",
    "\n",
    "y_train = le.transform(df[\"name\"].values)\n",
    "print(y_train.shape)"
   ]
  },
  {
   "cell_type": "markdown",
   "metadata": {
    "id": "bSByK-v82dPL"
   },
   "source": [
    "#Load the test dataset"
   ]
  },
  {
   "cell_type": "code",
   "execution_count": null,
   "metadata": {
    "colab": {
     "base_uri": "https://localhost:8080/"
    },
    "id": "8s8GKWzxqpsQ",
    "outputId": "9cbe22ce-91c7-4d8b-c23c-c1e0d20c4fd4"
   },
   "outputs": [
    {
     "name": "stdout",
     "output_type": "stream",
     "text": [
      "(25, 160, 160, 3)\n",
      "(25,)\n"
     ]
    }
   ],
   "source": [
    "x_test = list(df_test.image.values)\n",
    "x_test = np.array(x_test)\n",
    "x_test = x_test/255\n",
    "print(x_test.shape)\n",
    "\n",
    "y_test = le.transform(df_test[\"name\"].values)\n",
    "print(y_test.shape)"
   ]
  },
  {
   "cell_type": "markdown",
   "metadata": {
    "id": "lwv7WSxE2iJp"
   },
   "source": [
    "#Training without triplet loss model"
   ]
  },
  {
   "cell_type": "code",
   "execution_count": null,
   "metadata": {
    "colab": {
     "base_uri": "https://localhost:8080/"
    },
    "id": "hiO42Z_9ShD5",
    "outputId": "35c32ef8-6197-4a1b-9f64-cbead1e0951c"
   },
   "outputs": [
    {
     "name": "stdout",
     "output_type": "stream",
     "text": [
      "Model: \"sequential\"\n",
      "_________________________________________________________________\n",
      "Layer (type)                 Output Shape              Param #   \n",
      "=================================================================\n",
      "conv2d_1440 (Conv2D)         (None, 80, 80, 64)        1792      \n",
      "_________________________________________________________________\n",
      "conv2d_1441 (Conv2D)         (None, 40, 40, 128)       73856     \n",
      "_________________________________________________________________\n",
      "conv2d_1442 (Conv2D)         (None, 20, 20, 64)        73792     \n",
      "_________________________________________________________________\n",
      "conv2d_1443 (Conv2D)         (None, 10, 10, 64)        4160      \n",
      "_________________________________________________________________\n",
      "flatten_240 (Flatten)        (None, 6400)              0         \n",
      "_________________________________________________________________\n",
      "dense_840 (Dense)            (None, 256)               1638656   \n",
      "_________________________________________________________________\n",
      "dropout (Dropout)            (None, 256)               0         \n",
      "_________________________________________________________________\n",
      "dense_841 (Dense)            (None, 128)               32896     \n",
      "_________________________________________________________________\n",
      "dropout_1 (Dropout)          (None, 128)               0         \n",
      "_________________________________________________________________\n",
      "dense_842 (Dense)            (None, 5)                 645       \n",
      "=================================================================\n",
      "Total params: 1,825,797\n",
      "Trainable params: 1,825,797\n",
      "Non-trainable params: 0\n",
      "_________________________________________________________________\n"
     ]
    }
   ],
   "source": [
    "def get_model():\n",
    "        model = tf.keras.Sequential()\n",
    "        model.add(tf.keras.layers.Conv2D(64, kernel_size=3, strides=2, padding='same', input_shape=(160,160,3), activation='relu'))\n",
    "        model.add(tf.keras.layers.Conv2D(128, kernel_size=3, strides=2, padding='same', activation='relu'))\n",
    "        model.add(tf.keras.layers.Conv2D(64, kernel_size=3, strides=2, padding='same', activation='relu'))\n",
    "        model.add(tf.keras.layers.Conv2D(64, kernel_size=1, strides=2, padding='same', activation='relu'))\n",
    "        model.add(tf.keras.layers.Flatten())\n",
    "        model.add(tf.keras.layers.Dense(256, activation='relu'))\n",
    "        model.add(tf.keras.layers.Dropout(0.1))\n",
    "        model.add(tf.keras.layers.Dense(128, activation='relu'))\n",
    "        model.add(tf.keras.layers.Dropout(0.2))\n",
    "        model.add(tf.keras.layers.Dense(5, activation=\"softmax\"))\n",
    "\n",
    "        model.summary()\n",
    "        return model\n",
    "\n",
    "\n",
    "model = get_model()\n",
    "model.compile(loss='sparse_categorical_crossentropy', optimizer='adam', metrics = ['accuracy'])"
   ]
  },
  {
   "cell_type": "code",
   "execution_count": null,
   "metadata": {
    "colab": {
     "base_uri": "https://localhost:8080/"
    },
    "id": "_GBn45DtSnEl",
    "outputId": "01225761-c30c-488c-c59a-04a4efbb361e"
   },
   "outputs": [
    {
     "name": "stdout",
     "output_type": "stream",
     "text": [
      "Epoch 1/50\n",
      "1/1 [==============================] - 3s 3s/step - loss: 1.6075 - accuracy: 0.2581 - val_loss: 1.5914 - val_accuracy: 0.2000\n",
      "Epoch 2/50\n",
      "1/1 [==============================] - 0s 122ms/step - loss: 1.5896 - accuracy: 0.2366 - val_loss: 1.5940 - val_accuracy: 0.2000\n",
      "Epoch 3/50\n",
      "1/1 [==============================] - 0s 107ms/step - loss: 1.5356 - accuracy: 0.2581 - val_loss: 1.5654 - val_accuracy: 0.3200\n",
      "Epoch 4/50\n",
      "1/1 [==============================] - 0s 109ms/step - loss: 1.5300 - accuracy: 0.3656 - val_loss: 1.4673 - val_accuracy: 0.4400\n",
      "Epoch 5/50\n",
      "1/1 [==============================] - 0s 118ms/step - loss: 1.4275 - accuracy: 0.5376 - val_loss: 1.3501 - val_accuracy: 0.4400\n",
      "Epoch 6/50\n",
      "1/1 [==============================] - 0s 116ms/step - loss: 1.3701 - accuracy: 0.4516 - val_loss: 1.3146 - val_accuracy: 0.5200\n",
      "Epoch 7/50\n",
      "1/1 [==============================] - 0s 116ms/step - loss: 1.2844 - accuracy: 0.5591 - val_loss: 1.2840 - val_accuracy: 0.3600\n",
      "Epoch 8/50\n",
      "1/1 [==============================] - 0s 114ms/step - loss: 1.2379 - accuracy: 0.4946 - val_loss: 1.1636 - val_accuracy: 0.4400\n",
      "Epoch 9/50\n",
      "1/1 [==============================] - 0s 113ms/step - loss: 1.0828 - accuracy: 0.5806 - val_loss: 1.0960 - val_accuracy: 0.5600\n",
      "Epoch 10/50\n",
      "1/1 [==============================] - 0s 114ms/step - loss: 0.9873 - accuracy: 0.6344 - val_loss: 1.0436 - val_accuracy: 0.5600\n",
      "Epoch 11/50\n",
      "1/1 [==============================] - 0s 109ms/step - loss: 0.8253 - accuracy: 0.7204 - val_loss: 0.8743 - val_accuracy: 0.7600\n",
      "Epoch 12/50\n",
      "1/1 [==============================] - 0s 115ms/step - loss: 0.8048 - accuracy: 0.6882 - val_loss: 0.8079 - val_accuracy: 0.7200\n",
      "Epoch 13/50\n",
      "1/1 [==============================] - 0s 115ms/step - loss: 0.6645 - accuracy: 0.7419 - val_loss: 0.9253 - val_accuracy: 0.6000\n",
      "Epoch 14/50\n",
      "1/1 [==============================] - 0s 123ms/step - loss: 0.8138 - accuracy: 0.6882 - val_loss: 0.7354 - val_accuracy: 0.8400\n",
      "Epoch 15/50\n",
      "1/1 [==============================] - 0s 116ms/step - loss: 0.5680 - accuracy: 0.8172 - val_loss: 0.6743 - val_accuracy: 0.7600\n",
      "Epoch 16/50\n",
      "1/1 [==============================] - 0s 120ms/step - loss: 0.5359 - accuracy: 0.8065 - val_loss: 0.7539 - val_accuracy: 0.7200\n",
      "Epoch 17/50\n",
      "1/1 [==============================] - 0s 125ms/step - loss: 0.4843 - accuracy: 0.8280 - val_loss: 0.6596 - val_accuracy: 0.8000\n",
      "Epoch 18/50\n",
      "1/1 [==============================] - 0s 124ms/step - loss: 0.3603 - accuracy: 0.8710 - val_loss: 0.6474 - val_accuracy: 0.8400\n",
      "Epoch 19/50\n",
      "1/1 [==============================] - 0s 120ms/step - loss: 0.3013 - accuracy: 0.8925 - val_loss: 0.6806 - val_accuracy: 0.8000\n",
      "Epoch 20/50\n",
      "1/1 [==============================] - 0s 130ms/step - loss: 0.2863 - accuracy: 0.8817 - val_loss: 0.8374 - val_accuracy: 0.8000\n",
      "Epoch 21/50\n",
      "1/1 [==============================] - 0s 119ms/step - loss: 0.1804 - accuracy: 0.9677 - val_loss: 0.6940 - val_accuracy: 0.8800\n",
      "Epoch 22/50\n",
      "1/1 [==============================] - 0s 134ms/step - loss: 0.1830 - accuracy: 0.9677 - val_loss: 0.6408 - val_accuracy: 0.8400\n",
      "Epoch 23/50\n",
      "1/1 [==============================] - 0s 123ms/step - loss: 0.1658 - accuracy: 0.9570 - val_loss: 0.6625 - val_accuracy: 0.8000\n",
      "Epoch 24/50\n",
      "1/1 [==============================] - 0s 114ms/step - loss: 0.1169 - accuracy: 0.9677 - val_loss: 0.9148 - val_accuracy: 0.8400\n",
      "Epoch 25/50\n",
      "1/1 [==============================] - 0s 109ms/step - loss: 0.1929 - accuracy: 0.9462 - val_loss: 0.6930 - val_accuracy: 0.8000\n",
      "Epoch 26/50\n",
      "1/1 [==============================] - 0s 113ms/step - loss: 0.1683 - accuracy: 0.9462 - val_loss: 0.7724 - val_accuracy: 0.8800\n",
      "Epoch 27/50\n",
      "1/1 [==============================] - 0s 120ms/step - loss: 0.1872 - accuracy: 0.9247 - val_loss: 1.2753 - val_accuracy: 0.7600\n",
      "Epoch 28/50\n",
      "1/1 [==============================] - 0s 119ms/step - loss: 0.2398 - accuracy: 0.9355 - val_loss: 0.8904 - val_accuracy: 0.8000\n",
      "Epoch 29/50\n",
      "1/1 [==============================] - 0s 114ms/step - loss: 0.1447 - accuracy: 0.9570 - val_loss: 0.6195 - val_accuracy: 0.7200\n",
      "Epoch 30/50\n",
      "1/1 [==============================] - 0s 129ms/step - loss: 0.1086 - accuracy: 0.9462 - val_loss: 0.6416 - val_accuracy: 0.7200\n",
      "Epoch 31/50\n",
      "1/1 [==============================] - 0s 128ms/step - loss: 0.0882 - accuracy: 0.9785 - val_loss: 0.7479 - val_accuracy: 0.8000\n",
      "Epoch 32/50\n",
      "1/1 [==============================] - 0s 126ms/step - loss: 0.0614 - accuracy: 0.9785 - val_loss: 0.9691 - val_accuracy: 0.8000\n",
      "Epoch 33/50\n",
      "1/1 [==============================] - 0s 114ms/step - loss: 0.0361 - accuracy: 0.9892 - val_loss: 1.0696 - val_accuracy: 0.7200\n",
      "Epoch 34/50\n",
      "1/1 [==============================] - 0s 129ms/step - loss: 0.0673 - accuracy: 0.9677 - val_loss: 0.8898 - val_accuracy: 0.8000\n",
      "Epoch 35/50\n",
      "1/1 [==============================] - 0s 121ms/step - loss: 0.0328 - accuracy: 0.9892 - val_loss: 0.7785 - val_accuracy: 0.8400\n",
      "Epoch 36/50\n",
      "1/1 [==============================] - 0s 119ms/step - loss: 0.0572 - accuracy: 0.9892 - val_loss: 0.7411 - val_accuracy: 0.8400\n",
      "Epoch 37/50\n",
      "1/1 [==============================] - 0s 130ms/step - loss: 0.0395 - accuracy: 0.9785 - val_loss: 0.7053 - val_accuracy: 0.8400\n",
      "Epoch 38/50\n",
      "1/1 [==============================] - 0s 128ms/step - loss: 0.0356 - accuracy: 1.0000 - val_loss: 0.6994 - val_accuracy: 0.9200\n",
      "Epoch 39/50\n",
      "1/1 [==============================] - 0s 123ms/step - loss: 0.0253 - accuracy: 1.0000 - val_loss: 0.9287 - val_accuracy: 0.8400\n",
      "Epoch 40/50\n",
      "1/1 [==============================] - 0s 130ms/step - loss: 0.0145 - accuracy: 1.0000 - val_loss: 1.2691 - val_accuracy: 0.7600\n",
      "Epoch 41/50\n",
      "1/1 [==============================] - 0s 110ms/step - loss: 0.0584 - accuracy: 0.9677 - val_loss: 1.0625 - val_accuracy: 0.8000\n",
      "Epoch 42/50\n",
      "1/1 [==============================] - 0s 118ms/step - loss: 0.0096 - accuracy: 1.0000 - val_loss: 0.9240 - val_accuracy: 0.8800\n",
      "Epoch 43/50\n",
      "1/1 [==============================] - 0s 127ms/step - loss: 0.0059 - accuracy: 1.0000 - val_loss: 0.9118 - val_accuracy: 0.9200\n",
      "Epoch 44/50\n",
      "1/1 [==============================] - 0s 126ms/step - loss: 0.0031 - accuracy: 1.0000 - val_loss: 0.9288 - val_accuracy: 0.9200\n",
      "Epoch 45/50\n",
      "1/1 [==============================] - 0s 109ms/step - loss: 0.0098 - accuracy: 1.0000 - val_loss: 0.9998 - val_accuracy: 0.8800\n",
      "Epoch 46/50\n",
      "1/1 [==============================] - 0s 131ms/step - loss: 0.0099 - accuracy: 0.9892 - val_loss: 1.0717 - val_accuracy: 0.8800\n",
      "Epoch 47/50\n",
      "1/1 [==============================] - 0s 118ms/step - loss: 0.0073 - accuracy: 1.0000 - val_loss: 1.0931 - val_accuracy: 0.8800\n",
      "Epoch 48/50\n",
      "1/1 [==============================] - 0s 145ms/step - loss: 0.0042 - accuracy: 1.0000 - val_loss: 1.0769 - val_accuracy: 0.8800\n",
      "Epoch 49/50\n",
      "1/1 [==============================] - 0s 114ms/step - loss: 0.0047 - accuracy: 1.0000 - val_loss: 1.0389 - val_accuracy: 0.8400\n",
      "Epoch 50/50\n",
      "1/1 [==============================] - 0s 110ms/step - loss: 0.0023 - accuracy: 1.0000 - val_loss: 1.0008 - val_accuracy: 0.8400\n"
     ]
    },
    {
     "data": {
      "text/plain": [
       "<tensorflow.python.keras.callbacks.History at 0x7f2f463858d0>"
      ]
     },
     "execution_count": 11,
     "metadata": {
      "tags": []
     },
     "output_type": "execute_result"
    }
   ],
   "source": [
    "weight_dir = \"weights-normal-model\"\n",
    "if not os.path.exists(weight_dir):\n",
    "    os.mkdir(weight_dir)\n",
    "    \n",
    "checkpoint = tf.keras.callbacks.ModelCheckpoint(filepath=weight_dir+'/checkpoint-{epoch:02d}.hdf5')\n",
    "model.fit(x_train,y_train,validation_data=(x_test, y_test),epochs=50, batch_size=100, callbacks=[checkpoint])"
   ]
  },
  {
   "cell_type": "markdown",
   "metadata": {
    "id": "VLy1lHR22snc"
   },
   "source": [
    "#Training with triplet loss model"
   ]
  },
  {
   "cell_type": "code",
   "execution_count": null,
   "metadata": {
    "id": "AhXkzC2QCutZ"
   },
   "outputs": [],
   "source": [
    "def triplet_loss(y_true, y_pred, alpha = 0.2):\n",
    "    total_lenght = y_pred.shape.as_list()[-1]\n",
    "    anchor, positive, negative = y_pred[:,:int(1/3*total_lenght)], y_pred[:,int(1/3*total_lenght):int(2/3*total_lenght)], y_pred[:,int(2/3*total_lenght):]\n",
    "    pos_dist = tf.reduce_sum(tf.square(anchor - positive), axis=-1)\n",
    "    neg_dist = tf.reduce_sum(tf.square(anchor - negative), axis=-1)\n",
    "    basic_loss = pos_dist - neg_dist + alpha\n",
    "    loss = tf.reduce_sum(tf.maximum(basic_loss,0.0))\n",
    "    return loss"
   ]
  },
  {
   "cell_type": "code",
   "execution_count": null,
   "metadata": {
    "id": "qQgZVngCRr4o"
   },
   "outputs": [],
   "source": [
    "def generate_triplets(batch_size = 256):\n",
    "\n",
    "    # all of these numpy arrays are of same size\n",
    "    anchors,positives,negatives   = np.zeros((batch_size, 160, 160, 3)), np.zeros((batch_size, 160, 160, 3)), np.zeros((batch_size, 160, 160, 3))\n",
    "    \n",
    "    for i in range(0, batch_size):\n",
    "        # generating random number between 0 and 60000(total number of images)\n",
    "        index = random.randint(0, x_train.shape[0] - 1)\n",
    "\n",
    "        # indexe for anchor image and it's label\n",
    "        anchor   = x_train[index]\n",
    "        y     = y_train[index]\n",
    "        \n",
    "        # list of positive label indexes\n",
    "        index_pos = np.where(y_train == y)\n",
    "        index_pos = np.squeeze(index_pos)\n",
    "\n",
    "        # list of negative label indexes \n",
    "        index_neg = np.where(y_train != y)\n",
    "        index_neg = np.squeeze(index_neg)\n",
    "\n",
    "        # length of positive list containing indexes\n",
    "        len_pos = len(index_pos)\n",
    "\n",
    "        # length of negative list containing indexes\n",
    "        len_neg = len(index_neg)\n",
    "\n",
    "        # randomly selecting any single image from all the list of indexes\n",
    "        positive = x_train[index_pos[random.randint(0, len_pos - 1)]]\n",
    "        negative = x_train[index_neg[random.randint(0, len_neg - 1)]]\n",
    "        \n",
    "        \n",
    "        anchors[i], positives[i], negatives[i]   = anchor, positive, negative\n",
    "\n",
    "    return anchors, positives, negatives"
   ]
  },
  {
   "cell_type": "code",
   "execution_count": null,
   "metadata": {
    "colab": {
     "base_uri": "https://localhost:8080/"
    },
    "id": "oq1zo2QrC3OH",
    "outputId": "8e4e4b9f-501c-41ea-fe16-2255b30e36ab"
   },
   "outputs": [
    {
     "name": "stdout",
     "output_type": "stream",
     "text": [
      "(2000, 160, 160, 3) (2000, 160, 160, 3) (2000, 160, 160, 3)\n"
     ]
    }
   ],
   "source": [
    "# anchor_images, same_images, diff_images = generate_triplets(x_train,y_train, num_same= 10, num_diff=10)\n",
    "anchor_images, same_images, diff_images = generate_triplets(batch_size=2000)\n",
    "print(anchor_images.shape, same_images.shape, diff_images.shape)"
   ]
  },
  {
   "cell_type": "code",
   "execution_count": null,
   "metadata": {
    "colab": {
     "base_uri": "https://localhost:8080/",
     "height": 167
    },
    "id": "AKImnpqe2db9",
    "outputId": "c593fb98-3a36-4ed8-ef2f-839b0b7c7367"
   },
   "outputs": [
    {
     "data": {
      "text/plain": [
       "<matplotlib.image.AxesImage at 0x7f2f6c24f150>"
      ]
     },
     "execution_count": 18,
     "metadata": {
      "tags": []
     },
     "output_type": "execute_result"
    },
    {
     "data": {
      "image/png": "[encoded data removed]",
      "text/plain": [
       "<Figure size 432x288 with 3 Axes>"
      ]
     },
     "metadata": {
      "needs_background": "light",
      "tags": []
     },
     "output_type": "display_data"
    }
   ],
   "source": [
    "idx = 90\n",
    "plt.subplot(1,3,1)\n",
    "plt.imshow(anchor_images[idx])\n",
    "\n",
    "plt.subplot(1,3,2)\n",
    "plt.imshow(same_images[idx])\n",
    "\n",
    "plt.subplot(1,3,3)\n",
    "plt.imshow(diff_images[idx])"
   ]
  },
  {
   "cell_type": "code",
   "execution_count": null,
   "metadata": {
    "id": "CerQdTi42s2e"
   },
   "outputs": [],
   "source": [
    "def get_model():\n",
    "    model = tf.keras.Sequential()\n",
    "    model.add(tf.keras.layers.Conv2D(64, kernel_size=3, strides=2, padding='same', input_shape=(160,160,3), activation='relu'))\n",
    "    model.add(tf.keras.layers.Conv2D(128, kernel_size=3, strides=2, padding='same', activation='relu'))\n",
    "    model.add(tf.keras.layers.Conv2D(64, kernel_size=3, strides=2, padding='same', activation='relu'))\n",
    "    model.add(tf.keras.layers.Conv2D(64, kernel_size=1, strides=2, padding='same', activation='relu'))\n",
    "    model.add(tf.keras.layers.Flatten())\n",
    "    model.add(tf.keras.layers.Dense(512, activation='relu'))\n",
    "    model.add(tf.keras.layers.Dropout(0.1))\n",
    "    model.add(tf.keras.layers.Dense(256, activation='relu'))\n",
    "    model.add(tf.keras.layers.Dropout(0.2))\n",
    "    model.add(tf.keras.layers.Dense(128))\n",
    "              \n",
    "    model.summary()\n",
    "    return model"
   ]
  },
  {
   "cell_type": "code",
   "execution_count": null,
   "metadata": {
    "colab": {
     "base_uri": "https://localhost:8080/"
    },
    "id": "og6lZAis25IE",
    "outputId": "a0dc3ede-6fb4-4548-cda6-723c6e999676"
   },
   "outputs": [
    {
     "name": "stdout",
     "output_type": "stream",
     "text": [
      "Model: \"sequential_1\"\n",
      "_________________________________________________________________\n",
      "Layer (type)                 Output Shape              Param #   \n",
      "=================================================================\n",
      "conv2d_1444 (Conv2D)         (None, 80, 80, 64)        1792      \n",
      "_________________________________________________________________\n",
      "conv2d_1445 (Conv2D)         (None, 40, 40, 128)       73856     \n",
      "_________________________________________________________________\n",
      "conv2d_1446 (Conv2D)         (None, 20, 20, 64)        73792     \n",
      "_________________________________________________________________\n",
      "conv2d_1447 (Conv2D)         (None, 10, 10, 64)        4160      \n",
      "_________________________________________________________________\n",
      "flatten_241 (Flatten)        (None, 6400)              0         \n",
      "_________________________________________________________________\n",
      "dense_843 (Dense)            (None, 512)               3277312   \n",
      "_________________________________________________________________\n",
      "dropout_2 (Dropout)          (None, 512)               0         \n",
      "_________________________________________________________________\n",
      "dense_844 (Dense)            (None, 256)               131328    \n",
      "_________________________________________________________________\n",
      "dropout_3 (Dropout)          (None, 256)               0         \n",
      "_________________________________________________________________\n",
      "dense_845 (Dense)            (None, 128)               32896     \n",
      "=================================================================\n",
      "Total params: 3,595,136\n",
      "Trainable params: 3,595,136\n",
      "Non-trainable params: 0\n",
      "_________________________________________________________________\n",
      "Model: \"model_360\"\n",
      "__________________________________________________________________________________________________\n",
      "Layer (type)                    Output Shape         Param #     Connected to                     \n",
      "==================================================================================================\n",
      "anchor_input (InputLayer)       [(None, 160, 160, 3) 0                                            \n",
      "__________________________________________________________________________________________________\n",
      "positive_input (InputLayer)     [(None, 160, 160, 3) 0                                            \n",
      "__________________________________________________________________________________________________\n",
      "negative_input (InputLayer)     [(None, 160, 160, 3) 0                                            \n",
      "__________________________________________________________________________________________________\n",
      "sequential_1 (Sequential)       (None, 128)          3595136     anchor_input[0][0]               \n",
      "                                                                 positive_input[0][0]             \n",
      "                                                                 negative_input[0][0]             \n",
      "__________________________________________________________________________________________________\n",
      "merged_layer (Concatenate)      (None, 384)          0           sequential_1[0][0]               \n",
      "                                                                 sequential_1[1][0]               \n",
      "                                                                 sequential_1[2][0]               \n",
      "==================================================================================================\n",
      "Total params: 3,595,136\n",
      "Trainable params: 3,595,136\n",
      "Non-trainable params: 0\n",
      "__________________________________________________________________________________________________\n"
     ]
    }
   ],
   "source": [
    "anchor_input = tf.keras.layers.Input((160, 160, 3), name='anchor_input')\n",
    "positive_input = tf.keras.layers.Input((160, 160, 3), name='positive_input')\n",
    "negative_input = tf.keras.layers.Input((160, 160, 3), name='negative_input')\n",
    "\n",
    "shared_dnn = get_model()\n",
    "\n",
    "encoded_anchor = shared_dnn(anchor_input)\n",
    "encoded_positive = shared_dnn(positive_input)\n",
    "encoded_negative = shared_dnn(negative_input)\n",
    "\n",
    "merged_vector = tf.keras.layers.concatenate([encoded_anchor, encoded_positive, encoded_negative],\n",
    "                                            axis=-1, name='merged_layer')\n",
    "\n",
    "model = tf.keras.Model(inputs=[anchor_input,positive_input, negative_input], outputs=merged_vector)\n",
    "model.summary()\n",
    "model.compile(loss=triplet_loss, optimizer=\"adam\")"
   ]
  },
  {
   "cell_type": "code",
   "execution_count": null,
   "metadata": {
    "colab": {
     "base_uri": "https://localhost:8080/"
    },
    "id": "0AzRrGUh3Nzs",
    "outputId": "f04b546a-787e-46d4-c1d6-50691e657e33"
   },
   "outputs": [
    {
     "name": "stdout",
     "output_type": "stream",
     "text": [
      "Epoch 1/100\n",
      "16/16 [==============================] - 8s 305ms/step - loss: 21.7741\n",
      "Epoch 2/100\n",
      "16/16 [==============================] - 4s 251ms/step - loss: 9.1392\n",
      "Epoch 3/100\n",
      "16/16 [==============================] - 4s 248ms/step - loss: 2.7457\n",
      "Epoch 4/100\n",
      "16/16 [==============================] - 4s 248ms/step - loss: 1.2230\n",
      "Epoch 5/100\n",
      "16/16 [==============================] - 4s 245ms/step - loss: 0.3591\n",
      "Epoch 6/100\n",
      "16/16 [==============================] - 4s 243ms/step - loss: 0.9115\n",
      "Epoch 7/100\n",
      "16/16 [==============================] - 4s 248ms/step - loss: 0.5791\n",
      "Epoch 8/100\n",
      "16/16 [==============================] - 4s 243ms/step - loss: 0.3440\n",
      "Epoch 9/100\n",
      "16/16 [==============================] - 4s 245ms/step - loss: 1.5401\n",
      "Epoch 10/100\n",
      "16/16 [==============================] - 4s 243ms/step - loss: 0.4347\n",
      "Epoch 11/100\n",
      "16/16 [==============================] - 4s 244ms/step - loss: 0.2770\n",
      "Epoch 12/100\n",
      "16/16 [==============================] - 4s 244ms/step - loss: 0.2180\n",
      "Epoch 13/100\n",
      "16/16 [==============================] - 4s 241ms/step - loss: 0.0895\n",
      "Epoch 14/100\n",
      "16/16 [==============================] - 4s 239ms/step - loss: 0.0405\n",
      "Epoch 15/100\n",
      "16/16 [==============================] - 4s 234ms/step - loss: 0.1726\n",
      "Epoch 16/100\n",
      "16/16 [==============================] - 4s 234ms/step - loss: 0.0783\n",
      "Epoch 17/100\n",
      "16/16 [==============================] - 4s 233ms/step - loss: 0.1375\n",
      "Epoch 18/100\n",
      "16/16 [==============================] - 4s 240ms/step - loss: 0.1845\n",
      "Epoch 19/100\n",
      "16/16 [==============================] - 4s 231ms/step - loss: 0.1683\n",
      "Epoch 20/100\n",
      "16/16 [==============================] - 4s 231ms/step - loss: 0.1484\n",
      "Epoch 21/100\n",
      "16/16 [==============================] - 4s 234ms/step - loss: 0.1479\n",
      "Epoch 22/100\n",
      "16/16 [==============================] - 4s 233ms/step - loss: 0.2631\n",
      "Epoch 23/100\n",
      "16/16 [==============================] - 4s 235ms/step - loss: 0.0994\n",
      "Epoch 24/100\n",
      "16/16 [==============================] - 4s 239ms/step - loss: 0.0878\n",
      "Epoch 25/100\n",
      "16/16 [==============================] - 4s 233ms/step - loss: 0.2240\n",
      "Epoch 26/100\n",
      "16/16 [==============================] - 4s 231ms/step - loss: 0.4075\n",
      "Epoch 27/100\n",
      "16/16 [==============================] - 4s 231ms/step - loss: 0.1096\n",
      "Epoch 28/100\n",
      "16/16 [==============================] - 4s 231ms/step - loss: 0.0512\n",
      "Epoch 29/100\n",
      "16/16 [==============================] - 4s 237ms/step - loss: 0.0882\n",
      "Epoch 30/100\n",
      "16/16 [==============================] - 4s 234ms/step - loss: 0.1405\n",
      "Epoch 31/100\n",
      "16/16 [==============================] - 4s 234ms/step - loss: 0.1488\n",
      "Epoch 32/100\n",
      "16/16 [==============================] - 4s 231ms/step - loss: 0.1848\n",
      "Epoch 33/100\n",
      "16/16 [==============================] - 4s 235ms/step - loss: 0.2794\n",
      "Epoch 34/100\n",
      "16/16 [==============================] - 4s 233ms/step - loss: 0.0475\n",
      "Epoch 35/100\n",
      "16/16 [==============================] - 4s 232ms/step - loss: 0.0334\n",
      "Epoch 36/100\n",
      "16/16 [==============================] - 4s 231ms/step - loss: 0.0034\n",
      "Epoch 37/100\n",
      "16/16 [==============================] - 4s 237ms/step - loss: 0.0499\n",
      "Epoch 38/100\n",
      "16/16 [==============================] - 4s 229ms/step - loss: 0.0516\n",
      "Epoch 39/100\n",
      "16/16 [==============================] - 4s 229ms/step - loss: 0.0199\n",
      "Epoch 40/100\n",
      "16/16 [==============================] - 4s 234ms/step - loss: 0.0020\n",
      "Epoch 41/100\n",
      "16/16 [==============================] - 4s 237ms/step - loss: 0.0690\n",
      "Epoch 42/100\n",
      "16/16 [==============================] - 4s 233ms/step - loss: 0.2280\n",
      "Epoch 43/100\n",
      "16/16 [==============================] - 4s 229ms/step - loss: 0.3090\n",
      "Epoch 44/100\n",
      "16/16 [==============================] - 4s 235ms/step - loss: 0.1094\n",
      "Epoch 45/100\n",
      "16/16 [==============================] - 4s 232ms/step - loss: 0.6294\n",
      "Epoch 46/100\n",
      "16/16 [==============================] - 4s 234ms/step - loss: 0.7630\n",
      "Epoch 47/100\n",
      "16/16 [==============================] - 4s 231ms/step - loss: 0.3287\n",
      "Epoch 48/100\n",
      "16/16 [==============================] - 4s 228ms/step - loss: 0.3162\n",
      "Epoch 49/100\n",
      "16/16 [==============================] - 4s 228ms/step - loss: 0.7910\n",
      "Epoch 50/100\n",
      "16/16 [==============================] - 4s 234ms/step - loss: 0.7126\n",
      "Epoch 51/100\n",
      "16/16 [==============================] - 4s 232ms/step - loss: 0.4974\n",
      "Epoch 52/100\n",
      "16/16 [==============================] - 4s 230ms/step - loss: 0.3327\n",
      "Epoch 53/100\n",
      "16/16 [==============================] - 4s 237ms/step - loss: 0.3742\n",
      "Epoch 54/100\n",
      "16/16 [==============================] - 4s 230ms/step - loss: 0.0467\n",
      "Epoch 55/100\n",
      "16/16 [==============================] - 4s 231ms/step - loss: 0.0610\n",
      "Epoch 56/100\n",
      "16/16 [==============================] - 4s 229ms/step - loss: 0.0557\n",
      "Epoch 57/100\n",
      "16/16 [==============================] - 4s 229ms/step - loss: 0.0137\n",
      "Epoch 58/100\n",
      "16/16 [==============================] - 4s 228ms/step - loss: 0.0123\n",
      "Epoch 59/100\n",
      "16/16 [==============================] - 4s 235ms/step - loss: 0.0000e+00\n",
      "Epoch 60/100\n",
      "16/16 [==============================] - 4s 231ms/step - loss: 0.0063\n",
      "Epoch 61/100\n",
      "16/16 [==============================] - 4s 233ms/step - loss: 0.0102\n",
      "Epoch 62/100\n",
      "16/16 [==============================] - 4s 230ms/step - loss: 0.0000e+00\n",
      "Epoch 63/100\n",
      "16/16 [==============================] - 4s 227ms/step - loss: 0.0000e+00\n",
      "Epoch 64/100\n",
      "16/16 [==============================] - 4s 230ms/step - loss: 0.0000e+00\n",
      "Epoch 65/100\n",
      "16/16 [==============================] - 4s 229ms/step - loss: 0.1260\n",
      "Epoch 66/100\n",
      "16/16 [==============================] - 4s 235ms/step - loss: 0.0622\n",
      "Epoch 67/100\n",
      "16/16 [==============================] - 4s 238ms/step - loss: 0.0862\n",
      "Epoch 68/100\n",
      "16/16 [==============================] - 4s 234ms/step - loss: 0.0206\n",
      "Epoch 69/100\n",
      "16/16 [==============================] - 4s 228ms/step - loss: 0.0998\n",
      "Epoch 70/100\n",
      "16/16 [==============================] - 4s 236ms/step - loss: 0.2621\n",
      "Epoch 71/100\n",
      "16/16 [==============================] - 4s 230ms/step - loss: 0.1049\n",
      "Epoch 72/100\n",
      "16/16 [==============================] - 4s 230ms/step - loss: 1.6985e-04\n",
      "Epoch 73/100\n",
      "16/16 [==============================] - 4s 232ms/step - loss: 0.0227\n",
      "Epoch 74/100\n",
      "16/16 [==============================] - 4s 224ms/step - loss: 0.0100\n",
      "Epoch 75/100\n",
      "16/16 [==============================] - 4s 230ms/step - loss: 0.0066\n",
      "Epoch 76/100\n",
      "16/16 [==============================] - 4s 227ms/step - loss: 0.0125\n",
      "Epoch 77/100\n",
      "16/16 [==============================] - 4s 229ms/step - loss: 0.0493\n",
      "Epoch 78/100\n",
      "16/16 [==============================] - 4s 234ms/step - loss: 0.0401\n",
      "Epoch 79/100\n",
      "16/16 [==============================] - 4s 233ms/step - loss: 0.0000e+00\n",
      "Epoch 80/100\n",
      "16/16 [==============================] - 4s 234ms/step - loss: 0.0000e+00\n",
      "Epoch 81/100\n",
      "16/16 [==============================] - 4s 237ms/step - loss: 0.0232\n",
      "Epoch 82/100\n",
      "16/16 [==============================] - 4s 232ms/step - loss: 0.1388\n",
      "Epoch 83/100\n",
      "16/16 [==============================] - 4s 232ms/step - loss: 0.0846\n",
      "Epoch 84/100\n",
      "16/16 [==============================] - 4s 228ms/step - loss: 0.0228\n",
      "Epoch 85/100\n",
      "16/16 [==============================] - 4s 237ms/step - loss: 0.2721\n",
      "Epoch 86/100\n",
      "16/16 [==============================] - 4s 235ms/step - loss: 0.3806\n",
      "Epoch 87/100\n",
      "16/16 [==============================] - 4s 235ms/step - loss: 0.1824\n",
      "Epoch 88/100\n",
      "16/16 [==============================] - 4s 230ms/step - loss: 0.0112\n",
      "Epoch 89/100\n",
      "16/16 [==============================] - 4s 231ms/step - loss: 0.0100\n",
      "Epoch 90/100\n",
      "16/16 [==============================] - 4s 229ms/step - loss: 0.0468\n",
      "Epoch 91/100\n",
      "16/16 [==============================] - 4s 233ms/step - loss: 0.1432\n",
      "Epoch 92/100\n",
      "16/16 [==============================] - 4s 230ms/step - loss: 0.0335\n",
      "Epoch 93/100\n",
      "16/16 [==============================] - 4s 234ms/step - loss: 0.0194\n",
      "Epoch 94/100\n",
      "16/16 [==============================] - 4s 232ms/step - loss: 0.0793\n",
      "Epoch 95/100\n",
      "16/16 [==============================] - 4s 234ms/step - loss: 0.0000e+00\n",
      "Epoch 96/100\n",
      "16/16 [==============================] - 4s 228ms/step - loss: 0.0398\n",
      "Epoch 97/100\n",
      "16/16 [==============================] - 4s 231ms/step - loss: 0.0433\n",
      "Epoch 98/100\n",
      "16/16 [==============================] - 4s 230ms/step - loss: 0.0701\n",
      "Epoch 99/100\n",
      "16/16 [==============================] - 4s 236ms/step - loss: 0.1177\n",
      "Epoch 100/100\n",
      "16/16 [==============================] - 4s 230ms/step - loss: 0.1468\n"
     ]
    },
    {
     "data": {
      "text/plain": [
       "<tensorflow.python.keras.callbacks.History at 0x7f2fb00f04d0>"
      ]
     },
     "execution_count": 21,
     "metadata": {
      "tags": []
     },
     "output_type": "execute_result"
    }
   ],
   "source": [
    "weight_dir = \"weights-tripletloss-model\"\n",
    "if not os.path.exists(weight_dir):\n",
    "    os.mkdir(weight_dir)\n",
    "    \n",
    "checkpoint = tf.keras.callbacks.ModelCheckpoint(filepath=weight_dir+'/checkpoint-{epoch:02d}.hdf5')\n",
    "Y_dummy = np.empty((anchor_images.shape[0],1))\n",
    "\n",
    "model.fit([anchor_images,same_images,diff_images],y=Y_dummy, batch_size=128, epochs=100, callbacks=[checkpoint])"
   ]
  },
  {
   "cell_type": "markdown",
   "metadata": {
    "id": "r094YQhF22SD"
   },
   "source": [
    "#Plotting the graph after training"
   ]
  },
  {
   "cell_type": "code",
   "execution_count": null,
   "metadata": {
    "colab": {
     "base_uri": "https://localhost:8080/"
    },
    "id": "6BPkm9yNPMiA",
    "outputId": "baf00409-d402-4473-9687-33340f1a7f11"
   },
   "outputs": [
    {
     "data": {
      "text/plain": [
       "(93, 128)"
      ]
     },
     "execution_count": 22,
     "metadata": {
      "tags": []
     },
     "output_type": "execute_result"
    }
   ],
   "source": [
    "anchor_model = tf.keras.Model(inputs = anchor_input, outputs=encoded_anchor)\n",
    "pred = anchor_model.predict(x_train)\n",
    "pred.shape"
   ]
  },
  {
   "cell_type": "code",
   "execution_count": null,
   "metadata": {
    "colab": {
     "base_uri": "https://localhost:8080/",
     "height": 282
    },
    "id": "oh6bojvoPQuM",
    "outputId": "9599e920-eabc-4625-9d49-840828de8494"
   },
   "outputs": [
    {
     "data": {
      "text/plain": [
       "<matplotlib.collections.PathCollection at 0x7f2f5c266f90>"
      ]
     },
     "execution_count": 23,
     "metadata": {
      "tags": []
     },
     "output_type": "execute_result"
    },
    {
     "data": {
      "image/png": "[encoded data removed]",
      "text/plain": [
       "<Figure size 432x288 with 1 Axes>"
      ]
     },
     "metadata": {
      "needs_background": "light",
      "tags": []
     },
     "output_type": "display_data"
    }
   ],
   "source": [
    "from sklearn.decomposition import PCA\n",
    "\n",
    "pca = PCA(n_components=2)\n",
    "pred_pca = pca.fit_transform(pred)\n",
    "\n",
    "plt.scatter(pred_pca[:,0], pred_pca[:,1], c=y_train)"
   ]
  },
  {
   "cell_type": "code",
   "execution_count": null,
   "metadata": {
    "id": "rMRfrcprPUEW"
   },
   "outputs": [],
   "source": [
    "def encode_image(model ,img):\n",
    "    encode = model.predict(img.reshape((1,)+ img.shape))\n",
    "    return encode\n",
    "\n",
    "def dist_imgs(anchor_enc, img_enc):\n",
    "    return np.linalg.norm(img_enc - anchor_enc)"
   ]
  },
  {
   "cell_type": "code",
   "execution_count": null,
   "metadata": {
    "id": "HD-XeyP7PcJs"
   },
   "outputs": [],
   "source": [
    "name_dict = {}\n",
    "for i in set(df[\"name\"].values):\n",
    "    z = df[df[\"name\"] == i].image\n",
    "    img = np.array(list(z))/255\n",
    "    enc = np.zeros((1,128))\n",
    "    for j in range(len(z)):\n",
    "        enc += encode_image(anchor_model,img[j])\n",
    "\n",
    "    enc = enc/len(z)\n",
    "    name_dict[i] = enc"
   ]
  },
  {
   "cell_type": "code",
   "execution_count": null,
   "metadata": {
    "colab": {
     "base_uri": "https://localhost:8080/",
     "height": 265
    },
    "id": "By1pSy-cPfd7",
    "outputId": "2a96211b-4401-4c80-e88d-b968646f7d6b"
   },
   "outputs": [
    {
     "data": {
      "image/png": "[encoded data removed]",
      "text/plain": [
       "<Figure size 432x288 with 1 Axes>"
      ]
     },
     "metadata": {
      "needs_background": "light",
      "tags": []
     },
     "output_type": "display_data"
    }
   ],
   "source": [
    "pca = PCA(n_components=2)\n",
    "pred_pca = pca.fit_transform(pred)\n",
    "\n",
    "plt.scatter(pred_pca[:,0], pred_pca[:,1], c=y_train)\n",
    "\n",
    "for val in name_dict.values():\n",
    "  point = pca.transform(val)\n",
    "  plt.scatter(point[0,0], point[0,1], s = [60], c='black')\n",
    "plt.show()"
   ]
  },
  {
   "cell_type": "markdown",
   "metadata": {
    "id": "CQE1YHY-3CaO"
   },
   "source": [
    "#Predicting the images "
   ]
  },
  {
   "cell_type": "code",
   "execution_count": null,
   "metadata": {
    "id": "O__2E5DxPiyx"
   },
   "outputs": [],
   "source": [
    "def predict_image(model, img, dictionary):\n",
    "    enc = encode_image(model, img)\n",
    "    max_dist = 10000000\n",
    "    max_name = None\n",
    "    for name in dictionary:\n",
    "        dist = dist_imgs(dictionary[name], enc)\n",
    "        if max_dist > dist:\n",
    "            max_dist = dist\n",
    "            max_name = name\n",
    "    \n",
    "    return max_name, max_dist"
   ]
  },
  {
   "cell_type": "code",
   "execution_count": null,
   "metadata": {
    "colab": {
     "base_uri": "https://localhost:8080/",
     "height": 304
    },
    "id": "ykWMJ8cIPmrl",
    "outputId": "fc3ab31d-ceb2-4b80-eb7b-2d0afcfdefea"
   },
   "outputs": [
    {
     "name": "stdout",
     "output_type": "stream",
     "text": [
      "Predicted name: madonna  with distance 0.2556441449881512\n",
      "Actual pred:  ['madonna']\n"
     ]
    },
    {
     "data": {
      "image/png": "[encoded data removed]",
      "text/plain": [
       "<Figure size 432x288 with 1 Axes>"
      ]
     },
     "metadata": {
      "needs_background": "light",
      "tags": []
     },
     "output_type": "display_data"
    }
   ],
   "source": [
    "idx = 70\n",
    "img = x_train[idx]\n",
    "plt.imshow(img)\n",
    "\n",
    "n, d = predict_image(anchor_model, img, name_dict)\n",
    "print(\"Predicted name:\",n ,\" with distance\", d)\n",
    "print(\"Actual pred: \", le.inverse_transform(y_train[idx:idx+1]))"
   ]
  }
 ],
 "metadata": {
  "accelerator": "GPU",
  "colab": {
   "collapsed_sections": [],
   "name": "face.ipynb",
   "provenance": []
  },
  "kernelspec": {
   "display_name": "Python 3",
   "language": "python",
   "name": "python3"
  },
  "language_info": {
   "codemirror_mode": {
    "name": "ipython",
    "version": 3
   },
   "file_extension": ".py",
   "mimetype": "text/x-python",
   "name": "python",
   "nbconvert_exporter": "python",
   "pygments_lexer": "ipython3",
   "version": "3.8.10"
  }
 },
 "nbformat": 4,
 "nbformat_minor": 1
}
